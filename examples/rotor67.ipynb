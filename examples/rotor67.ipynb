{
 "cells": [
  {
   "cell_type": "code",
   "execution_count": 1,
   "metadata": {},
   "outputs": [
    {
     "name": "stdout",
     "output_type": "stream",
     "text": [
      "Overwriting auto display for cadquery Workplane and Shape\n",
      " \n"
     ]
    },
    {
     "data": {
      "application/vnd.jupyter.widget-view+json": {
       "model_id": "373cce08958d4df3a0af1a6ffaa9e9c3",
       "version_major": 2,
       "version_minor": 0
      },
      "text/plain": [
       "CadViewerWidget(anchor=None, cad_width=800, height=600, pinning=False, theme='light', title=None, tree_width=2…"
      ]
     },
     "metadata": {},
     "output_type": "display_data"
    },
    {
     "data": {
      "text/html": [
       "<div></div>"
      ],
      "text/plain": [
       "<IPython.core.display.HTML object>"
      ]
     },
     "metadata": {},
     "output_type": "display_data"
    },
    {
     "data": {
      "text/plain": [
       "<cad_viewer_widget.widget.CadViewer at 0x29dd74350>"
      ]
     },
     "execution_count": 1,
     "metadata": {},
     "output_type": "execute_result"
    }
   ],
   "source": [
    "import numpy as np\n",
    "from parafoil import TurboRowPassage, TurboStagePassage, TurboMeshParameters\n",
    "from parafoil import CamberThicknessAirfoil\n",
    "from parafoil.passages.turbo import TurboRow3DPassage\n",
    "\n",
    "mean_rotor_airfoil = CamberThicknessAirfoil(\n",
    "    inlet_angle=np.radians(-60),\n",
    "    outlet_angle=np.radians(-51),\n",
    "    upper_thick_prop=[0.015, 0.05, 0.05, 0.015],\n",
    "    lower_thick_prop=[0.015, 0.05, 0.05, 0.015],\n",
    "    leading_prop=0.5,\n",
    "    trailing_prop=0.5,\n",
    "    chord_length=0.018*1000,\n",
    ")\n",
    "mean_rotor_pasage = TurboRowPassage(\n",
    "    airfoil=mean_rotor_airfoil,\n",
    "    spacing_to_chord=1.0,\n",
    "    leading_edge_gap_to_chord=4,\n",
    "    trailing_edge_gap_to_chord=4,\n",
    "    type=\"camber\",\n",
    "    mesh_params=TurboMeshParameters(\n",
    "        airfoil_label=\"wall1\",\n",
    "        bottom_label=\"periodic1\",\n",
    "        top_label=\"periodic2\",\n",
    "        inlet_label=\"inflow\",\n",
    "        outlet_label=\"outmix\",\n",
    "    )\n",
    ")\n",
    "# hub_rotor_airfoil = mean_rotor_airfoil.clone(np.radians(-50), np.radians(-25))\n",
    "\n",
    "hub_rotor_airfoil = CamberThicknessAirfoil(\n",
    "    inlet_angle=np.radians(-50),\n",
    "    outlet_angle=np.radians(-25),\n",
    "    upper_thick_prop=[0.015, 0.05, 0.05, 0.015],\n",
    "    lower_thick_prop=[0.015, 0.05, 0.05, 0.015],\n",
    "    leading_prop=0.5,\n",
    "    trailing_prop=0.5,\n",
    "    chord_length=0.018*1000,\n",
    ")\n",
    "hub_rotor_passage = mean_rotor_pasage.clone(hub_rotor_airfoil)\n",
    "\n",
    "\n",
    "tip_rotor_airfoil = CamberThicknessAirfoil(\n",
    "    inlet_angle=np.radians(-67),\n",
    "    outlet_angle=np.radians(-63),\n",
    "    upper_thick_prop=[0.015, 0.05, 0.05, 0.015],\n",
    "    lower_thick_prop=[0.015, 0.05, 0.05, 0.015],\n",
    "    leading_prop=0.5,\n",
    "    trailing_prop=0.5,\n",
    "    chord_length=0.018*1000,\n",
    ")\n",
    "# tip_rotor_airfoil = mean_rotor_airfoil.clone(np.radians(-67),np.radians((-63)))\n",
    "tip_rotor_passage = mean_rotor_pasage.clone(tip_rotor_airfoil)\n",
    "\n",
    "\n",
    "blade = TurboRow3DPassage([hub_rotor_passage, mean_rotor_pasage, mean_rotor_pasage], radii=[0.1131*1000, 0.1697*1000, 0.2262*1000])\n",
    "\n",
    "# profile = blade.get_profile()\n",
    "# profile = mean_rotor_pasage.get_profile()\n",
    "\n",
    "# import cadquery as cq\n",
    "from jupyter_cadquery import show\n",
    "show(blade.get_profile())\n",
    "# cq.exporters.export(profile, \"rotor67.step\")\n",
    "\n",
    "# import cadquery as cq\n",
    "# cq.exporters.export(profile, \"rotor67.step\")"
   ]
  },
  {
   "cell_type": "code",
   "execution_count": 1,
   "metadata": {},
   "outputs": [
    {
     "name": "stdout",
     "output_type": "stream",
     "text": [
      "Overwriting auto display for cadquery Workplane and Shape\n"
     ]
    }
   ],
   "source": [
    "import numpy as np\n",
    "from parafoil import TurboRowPassage, TurboStagePassage, TurboMeshParameters\n",
    "from parafoil import CamberThicknessAirfoil\n",
    "from parafoil.passages.turbo import TurboRow3DPassage\n",
    "\n",
    "mean_rotor_airfoil = CamberThicknessAirfoil(\n",
    "    inlet_angle=np.radians(-60),\n",
    "    outlet_angle=np.radians(-51),\n",
    "    upper_thick_prop=[0.015, 0.05, 0.05, 0.015],\n",
    "    lower_thick_prop=[0.015, 0.05, 0.05, 0.015],\n",
    "    leading_prop=0.5,\n",
    "    trailing_prop=0.5,\n",
    "    chord_length=0.018*1000,\n",
    ")\n",
    "mean_rotor_pasage = TurboRowPassage(\n",
    "    airfoil=mean_rotor_airfoil,\n",
    "    spacing_to_chord=1.0,\n",
    "    leading_edge_gap_to_chord=4,\n",
    "    trailing_edge_gap_to_chord=4,\n",
    "    type=\"camber\",\n",
    "    mesh_params=TurboMeshParameters(\n",
    "        airfoil_label=\"wall1\",\n",
    "        bottom_label=\"periodic1\",\n",
    "        top_label=\"periodic2\",\n",
    "        inlet_label=\"inflow\",\n",
    "        outlet_label=\"outmix\",\n",
    "    )\n",
    ")\n",
    "mean_rotor_pasage.get_profile()\n",
    "# hub_rotor_airfoil = mean_rotor_airfoil.clone(np.radians(-50), np.radians(-25))\n",
    "\n",
    "hub_rotor_airfoil = CamberThicknessAirfoil(\n",
    "    inlet_angle=np.radians(-50),\n",
    "    outlet_angle=np.radians(-25),\n",
    "    upper_thick_prop=[0.015, 0.05, 0.05, 0.015],\n",
    "    lower_thick_prop=[0.015, 0.05, 0.05, 0.015],\n",
    "    leading_prop=0.5,\n",
    "    trailing_prop=0.5,\n",
    "    chord_length=0.018*1000,\n",
    ")\n",
    "hub_rotor_passage = mean_rotor_pasage.clone(hub_rotor_airfoil)\n",
    "\n",
    "\n",
    "tip_rotor_airfoil = CamberThicknessAirfoil(\n",
    "    inlet_angle=np.radians(-67),\n",
    "    outlet_angle=np.radians(-63),\n",
    "    upper_thick_prop=[0.015, 0.05, 0.05, 0.015],\n",
    "    lower_thick_prop=[0.015, 0.05, 0.05, 0.015],\n",
    "    leading_prop=0.5,\n",
    "    trailing_prop=0.5,\n",
    "    chord_length=0.018*1000,\n",
    ")\n",
    "# tip_rotor_airfoil = mean_rotor_airfoil.clone(np.radians(-67),np.radians((-63)))\n",
    "tip_rotor_passage = mean_rotor_pasage.clone(tip_rotor_airfoil)\n",
    "\n",
    "\n",
    "blade = TurboRow3DPassage([hub_rotor_passage, mean_rotor_pasage, mean_rotor_pasage], radii=[0.1131*1000, 0.1697*1000, 0.2262*1000])\n",
    "\n",
    "profile = blade.get_profile()\n",
    "# pass\n",
    "import cadquery as cq\n",
    "cq.exporters.export(profile, \"rotor67.step\")"
   ]
  },
  {
   "cell_type": "code",
   "execution_count": 3,
   "metadata": {},
   "outputs": [
    {
     "name": "stdout",
     "output_type": "stream",
     "text": [
      "Info    : Build background mesh and guiding field ...\n",
      "Info    : Meshing 1D...\n",
      "Info    : [  0%] Meshing curve 1 (BSpline)\n",
      "Info    : [ 10%] Meshing curve 2 (BSpline)\n",
      "Info    : [ 10%] Meshing curve 3 (BSpline)\n",
      "Info    : [ 20%] Meshing curve 4 (BSpline)\n",
      "Info    : [ 20%] Meshing curve 5 (BSpline)\n",
      "Info    : [ 30%] Meshing curve 6 (BSpline)\n",
      "Info    : [ 30%] Meshing curve 7 (BSpline)\n",
      "Info    : [ 40%] Meshing curve 8 (BSpline)\n",
      "Info    : [ 40%] Meshing curve 9 (BSpline)\n",
      "Info    : [ 50%] Meshing curve 10 (BSpline)\n",
      "Info    : [ 50%] Meshing curve 11 (BSpline)\n",
      "Info    : [ 60%] Meshing curve 12 (BSpline)\n",
      "Info    : [ 60%] Meshing curve 13 (BSpline)\n",
      "Info    : [ 70%] Meshing curve 14 (BSpline)\n",
      "Info    : [ 70%] Meshing curve 15 (BSpline)\n",
      "Info    : [ 80%] Meshing curve 16 (BSpline)\n",
      "Info    : [ 80%] Meshing curve 17 (BSpline)\n",
      "Info    : [ 90%] Meshing curve 18 (BSpline)\n",
      "Info    : [ 90%] Meshing curve 19 (BSpline)\n",
      "Info    : [100%] Meshing curve 20 (BSpline)\n",
      "Info    : [100%] Meshing curve 21 (BSpline)\n",
      "Info    : Done meshing 1D (Wall 0.0666744s, CPU 0.065145s)\n",
      "Info    : Meshing 2D...\n",
      "Info    : [  0%] Meshing surface 1 (BSpline surface, Frontal-Delaunay)\n",
      "Info    : [ 20%] Meshing surface 2 (BSpline surface, Frontal-Delaunay)\n",
      "Info    : [ 30%] Meshing surface 3 (Plane, Frontal-Delaunay)\n",
      "Info    : [ 40%] Meshing surface 4 (BSpline surface, Frontal-Delaunay)\n",
      "Info    : [ 50%] Meshing surface 5 (Plane, Frontal-Delaunay)\n",
      "Info    : [ 60%] Meshing surface 6 (BSpline surface, Frontal-Delaunay)\n",
      "Info    : [ 70%] Meshing surface 7 (BSpline surface, Frontal-Delaunay)\n",
      "Info    : [ 80%] Meshing surface 8 (BSpline surface, Frontal-Delaunay)\n",
      "Info    : [ 90%] Meshing surface 9 (BSpline surface, Frontal-Delaunay)\n",
      "Info    : Done meshing 2D (Wall 0.0179448s, CPU 0.014779s)\n",
      "Info    : 354 nodes 836 elements\n",
      "Info    : - quadqs sizemap method: background mesh sizes (3), expect midpoint subdivision: 0, scaling on edge length: 0.750000\n",
      "Info    : - Face 1/9: compute cross field (138 triangles, 30 B.C. edges, 4 diffusion levels) ...\n",
      "Info    : - Face 2/9: compute cross field (36 triangles, 20 B.C. edges, 4 diffusion levels) ...\n",
      "Info    : - Face 3/9: compute cross field (57 triangles, 31 B.C. edges, 4 diffusion levels) ...\n",
      "Info    : - Face 4/9: compute cross field (34 triangles, 20 B.C. edges, 4 diffusion levels) ...\n",
      "Info    : - Face 5/9: compute cross field (55 triangles, 31 B.C. edges, 4 diffusion levels) ...\n",
      "Info    : - Face 6/9: compute cross field (212 triangles, 38 B.C. edges, 4 diffusion levels) ...\n",
      "Info    : - Face 7/9: compute cross field (34 triangles, 20 B.C. edges, 4 diffusion levels) ...\n",
      "Info    : - Face 8/9: compute cross field (36 triangles, 20 B.C. edges, 4 diffusion levels) ...\n",
      "Info    : - Face 9/9: compute cross field (102 triangles, 26 B.C. edges, 4 diffusion levels) ...\n",
      "Info    : Size map statistics: min=11.041, max=19.584, target #elements: 168.935\n",
      "Info    : Build background field (view 'guiding_field') ...\n",
      "Info    : Meshing 1D...\n",
      "Info    : [  0%] Meshing curve 1 (BSpline)\n",
      "Info    : [ 10%] Meshing curve 2 (BSpline)\n",
      "Info    : [ 10%] Meshing curve 3 (BSpline)\n",
      "Info    : [ 20%] Meshing curve 4 (BSpline)\n",
      "Info    : [ 20%] Meshing curve 5 (BSpline)\n",
      "Info    : [ 30%] Meshing curve 6 (BSpline)\n",
      "Info    : [ 30%] Meshing curve 7 (BSpline)\n",
      "Info    : [ 40%] Meshing curve 8 (BSpline)\n",
      "Info    : [ 40%] Meshing curve 9 (BSpline)\n",
      "Info    : [ 50%] Meshing curve 10 (BSpline)\n",
      "Info    : [ 50%] Meshing curve 11 (BSpline)\n",
      "Info    : [ 60%] Meshing curve 12 (BSpline)\n",
      "Info    : [ 60%] Meshing curve 13 (BSpline)\n",
      "Info    : [ 70%] Meshing curve 14 (BSpline)\n",
      "Info    : [ 70%] Meshing curve 15 (BSpline)\n",
      "Info    : [ 80%] Meshing curve 16 (BSpline)\n",
      "Info    : [ 80%] Meshing curve 17 (BSpline)\n",
      "Info    : [ 90%] Meshing curve 18 (BSpline)\n",
      "Info    : [ 90%] Meshing curve 19 (BSpline)\n",
      "Info    : [100%] Meshing curve 20 (BSpline)\n",
      "Info    : [100%] Meshing curve 21 (BSpline)\n",
      "Info    : Done meshing 1D (Wall 0.0611607s, CPU 0.059771s)\n",
      "Info    : Meshing 2D...\n",
      "Info    : [  0%] Meshing surface 1 (Transfinite)\n",
      "Info    : [ 20%] Meshing surface 2 (Transfinite)\n",
      "Info    : [ 30%] Meshing surface 3 (Plane, Packing of Parallelograms)\n",
      "Info    : [ 30%] 0 Nodes created --> now staring insertion\n",
      "Info    : [ 30%] Simple recombination completed (Wall 0.0006025s, CPU 8.8e-05s): 12 quads, 9 triangles, 0 invalid quads, 0 quads with Q < 0.1, avg Q = 0.715249, min Q = 0.209329\n",
      "Info    : [ 40%] Meshing surface 4 (Transfinite)\n",
      "Info    : [ 50%] Meshing surface 5 (Plane, Packing of Parallelograms)\n",
      "Info    : [ 50%] 0 Nodes created --> now staring insertion\n",
      "Info    : [ 50%] Simple recombination completed (Wall 8.64998e-05s, CPU 8.6e-05s): 13 quads, 7 triangles, 0 invalid quads, 1 quads with Q < 0.1, avg Q = 0.657833, min Q = 0.0322449\n",
      "Info    : [ 60%] Meshing surface 6 (Transfinite)\n",
      "Info    : [ 70%] Meshing surface 7 (Transfinite)\n",
      "Info    : [ 80%] Meshing surface 8 (Transfinite)\n",
      "Info    : [ 90%] Meshing surface 9 (Transfinite)\n",
      "Info    : Refine mesh (midpoint subdivision, with background projection) ...\n",
      "Info    : Refining mesh...\n",
      "Info    : Meshing order 2 (curvilinear off)...\n",
      "Info    : [  0%] Meshing curve 1 order 2\n",
      "Info    : [ 10%] Meshing curve 2 order 2\n",
      "Info    : [ 10%] Meshing curve 3 order 2\n",
      "Info    : [ 10%] Meshing curve 4 order 2\n",
      "Info    : [ 20%] Meshing curve 5 order 2\n",
      "Info    : [ 20%] Meshing curve 6 order 2\n",
      "Info    : [ 20%] Meshing curve 7 order 2\n",
      "Info    : [ 30%] Meshing curve 8 order 2\n",
      "Info    : [ 30%] Meshing curve 9 order 2\n",
      "Info    : [ 30%] Meshing curve 10 order 2\n",
      "Info    : [ 40%] Meshing curve 11 order 2\n",
      "Info    : [ 40%] Meshing curve 12 order 2\n",
      "Info    : [ 40%] Meshing curve 13 order 2\n",
      "Info    : [ 50%] Meshing curve 14 order 2\n",
      "Info    : [ 50%] Meshing curve 15 order 2\n",
      "Info    : [ 50%] Meshing curve 16 order 2\n",
      "Info    : [ 60%] Meshing curve 17 order 2\n",
      "Info    : [ 60%] Meshing curve 18 order 2\n",
      "Info    : [ 60%] Meshing curve 19 order 2\n",
      "Info    : [ 70%] Meshing curve 20 order 2\n",
      "Info    : [ 70%] Meshing curve 21 order 2\n",
      "Info    : [ 70%] Meshing surface 1 order 2\n",
      "Info    : [ 80%] Meshing surface 2 order 2\n",
      "Info    : [ 80%] Meshing surface 3 order 2\n",
      "Info    : [ 80%] Meshing surface 4 order 2\n",
      "Info    : [ 90%] Meshing surface 5 order 2\n",
      "Info    : [ 90%] Meshing surface 6 order 2\n",
      "Info    : [ 90%] Meshing surface 7 order 2\n",
      "Info    : [100%] Meshing surface 8 order 2\n",
      "Info    : [100%] Meshing surface 9 order 2\n",
      "Info    : [100%] Meshing volume 1 order 2\n",
      "Info    : Done meshing order 2 (Wall 0.00197967s, CPU 0.00103s)\n",
      "Info    : Done refining mesh (Wall 0.00220467s, CPU 0.001225s)\n",
      "Info    : Optimize geometry of quad mesh ...\n",
      "Info    : - Face 1: SICN min: 0.965056 -> 0.961628, avg: 0.993735 -> 0.996819\n",
      "Info    : - Face 2: SICN min: 0.752975 -> 0.752975, avg: 0.776239 -> 0.776239\n",
      "Info    : - Face 3: SICN min: 0.388531 -> 0.341337, avg: 0.730896 -> 0.744145\n",
      "Info    : - Face 4: SICN min: 0.523265 -> 0.523265, avg: 0.627899 -> 0.627899\n",
      "Info    : - Face 5: SICN min: 0.048961 -> 0.048961, avg: 0.747764 -> 0.747764\n",
      "Info    : - Face 6: SICN min: 0.951403 -> 0.964491, avg: 0.986626 -> 0.987384\n",
      "Info    : - Face 7: SICN min: 0.481371 -> 0.480267, avg: 0.585262 -> 0.586752\n",
      "Info    : - Face 8: SICN min: 0.753725 -> 0.753725, avg: 0.776242 -> 0.776242\n",
      "Info    : - Face 9: SICN min: 0.972649 -> 0.972649, avg: 0.993132 -> 0.993132\n",
      "Info    : Quad mesh after subdivision, projection and small smoothing:\n",
      "Info    : - 1683 vertices, 1408 quads\n",
      "Info    : - vertex topology: 1608 regular, 16 valence 3, 0 valence 5, 1 very irregular\n",
      "Info    : - quad edge length: min=1.358, avg=5.903, max=11.563\n",
      "Info    : - quad SICN quality: min=0.049, avg=0.874, max=1.000\n",
      "Info    : - quad SIGE quality: min=0.049, avg=0.974, max=1.000\n",
      "Info    : Optimizing mesh (QuadQuasiStructured)...\n",
      "Info    : Pattern-based quad meshing of simple CAD faces ...\n",
      "Info    : loading 9 quad patterns\n",
      "Info    : - Face 1: remeshed with a global pattern, 252 -> 252 quads, 221 -> 221 int. vertices, SICN min: 0.962 -> 0.962, SICN avg: 0.997 -> 0.997, time: 0.010s\n",
      "Info    : - Face 2: remeshed with a global pattern, 108 -> 108 quads, 85 -> 85 int. vertices, SICN min: 0.753 -> 0.753, SICN avg: 0.776 -> 0.776, time: 0.002s\n",
      "Info    : - Face 4: remeshed with a global pattern, 108 -> 108 quads, 85 -> 85 int. vertices, SICN min: 0.523 -> 0.520, SICN avg: 0.628 -> 0.629, time: 0.009s\n",
      "Info    : - Face 6: remeshed with a global pattern, 396 -> 396 quads, 357 -> 357 int. vertices, SICN min: 0.964 -> 0.964, SICN avg: 0.987 -> 0.987, time: 0.015s\n",
      "Info    : - Face 8: remeshed with a global pattern, 108 -> 108 quads, 85 -> 85 int. vertices, SICN min: 0.754 -> 0.753, SICN avg: 0.776 -> 0.776, time: 0.002s\n",
      "Info    : - Face 9: remeshed with a global pattern, 180 -> 180 quads, 153 -> 153 int. vertices, SICN min: 0.973 -> 0.974, SICN avg: 0.993 -> 0.993, time: 0.004s\n",
      "Info    : Quad mesh after simple face pattern-based remeshing:\n",
      "Info    : - 1683 vertices, 1408 quads\n",
      "Info    : - vertex topology: 1608 regular, 16 valence 3, 0 valence 5, 1 very irregular\n",
      "Info    : - quad edge length: min=1.358, avg=5.903, max=11.563\n",
      "Info    : - quad SICN quality: min=0.049, avg=0.874, max=1.000\n",
      "Info    : - quad SIGE quality: min=0.049, avg=0.974, max=1.000\n",
      "Info    : Optimize topology of quad meshes with disk quadrangulation remeshing ...\n",
      "Info    : loading disk quadrangulations ...\n",
      "Info    : 15899 disk quadrangulations loaded\n",
      "Info    : - Face 3: SICN min: 0.283756 -> 0.283756, avg: 0.748523 -> 0.748523\n",
      "Info    : - Face 3: disk quadrangulation remeshing, improved valence on 0/8/4 corner/curve/surface vertices (in 0.040 sec), remaining non-ideal: 1/0/0\n",
      "Info    : - Face 5: SICN min: 0.048961 -> 0.048961, avg: 0.748935 -> 0.748935\n",
      "Info    : - Face 5: disk quadrangulation remeshing, improved valence on 0/8/4 corner/curve/surface vertices (in 0.038 sec), remaining non-ideal: 1/1/0\n",
      "Info    : - Face 7: SICN min: 0.481376 -> 0.480267, avg: 0.585262 -> 0.586752\n",
      "Info    : - Face 7: disk quadrangulation remeshing, improved valence on 0/0/0 corner/curve/surface vertices (in 0.019 sec), remaining non-ideal: 0/0/0\n",
      "Info    : Quad mesh after disk quadrangulation remeshing:\n",
      "Info    : - 1699 vertices, 1424 quads\n",
      "Info    : - vertex topology: 1625 regular, 16 valence 3, 15 valence 5, 0 very irregular\n",
      "Info    : - quad edge length: min=1.306, avg=5.868, max=13.299\n",
      "Info    : - quad SICN quality: min=0.049, avg=0.873, max=1.000\n",
      "Info    : - quad SIGE quality: min=0.049, avg=0.975, max=1.000\n",
      "Info    : Optimize topology of quad meshes with cavity remeshing (9 faces) ...\n",
      "Info    : - Face 3: optimize quad mesh topology (83 elements, 1 cross field singularities) with cavity remeshing ...\n",
      "Info    : - Face 3: SICN min: 0.367105 -> 0.367105, avg: 0.705137 -> 0.705137\n",
      "Info    : - Face 3: remeshed 0 singular and 2 quadrilateral cavities, 83 -> 117 quads, 49 -> 83 vertices\n",
      "Info    : - Face 5: optimize quad mesh topology (81 elements, 0 cross field singularities) with cavity remeshing ...\n",
      "Info    : - Face 5: SICN min: 0.048961 -> 0.048961, avg: 0.689601 -> 0.689601\n",
      "Info    : - Face 5: remeshed 0 singular and 2 quadrilateral cavities, 81 -> 103 quads, 47 -> 69 vertices\n",
      "Info    : - Face 7: optimize quad mesh topology (108 elements, 0 cross field singularities) with cavity remeshing ...\n",
      "Info    : - Face 7: remeshed 0 singular and 0 quadrilateral cavities, 108 -> 108 quads, 85 -> 85 vertices\n",
      "Info    : Quad mesh after cavity remeshing:\n",
      "Info    : - 1755 vertices, 1480 quads\n",
      "Info    : - vertex topology: 1693 regular, 10 valence 3, 9 valence 5, 0 very irregular\n",
      "Info    : - quad edge length: min=1.389, avg=5.790, max=15.311\n",
      "Info    : - quad SICN quality: min=0.049, avg=0.860, max=1.000\n",
      "Info    : - quad SIGE quality: min=0.049, avg=0.973, max=1.000\n",
      "Info    : Done optimizing mesh (Wall 0.2306s, CPU 0.220188s)\n",
      "Info    : Done meshing 2D (Wall 0.764218s, CPU 0.725671s)\n",
      "Info    : 1482 nodes 1760 elements\n",
      "-------------------------------------------------------\n",
      "Version       : 4.11.1\n",
      "License       : GNU General Public License\n",
      "Build OS      : MacOSARM-sdk\n",
      "Build date    : 20221221\n",
      "Build host    : gmsh.info\n",
      "Build options : 64Bit ALGLIB[contrib] ANN[contrib] Bamg Blas[petsc] Blossom Cgns DIntegration Dlopen DomHex Eigen[contrib] Fltk GMP Gmm[contrib] Hxt Jpeg Kbipack Lapack[petsc] MathEx[contrib] Med Mesh Metis[contrib] Mpeg Netgen ONELAB ONELABMetamodel OpenCASCADE OpenCASCADE-CAF OpenGL OpenMP OptHom PETSc Parser Plugins Png Post QuadMeshingTools QuadTri Solver TetGen/BR TouchBar Voro++[contrib] WinslowUntangler Zlib\n",
      "FLTK version  : 1.4.0\n",
      "PETSc version : 3.17.4 (real arithmtic)\n",
      "OCC version   : 7.6.1\n",
      "MED version   : 4.1.0\n",
      "Packaged by   : geuzaine\n",
      "Web site      : https://gmsh.info\n",
      "Issue tracker : https://gitlab.onelab.info/gmsh/gmsh/issues\n",
      "-------------------------------------------------------\n"
     ]
    }
   ],
   "source": [
    "from meshql import GeometryQL, Split\n",
    "\n",
    "with GeometryQL() as geo:\n",
    "    (\n",
    "        geo\n",
    "        .load(\n",
    "            profile,\n",
    "            apply_splits= lambda split: (\n",
    "                split\n",
    "                # .from_plane(base_pnt=tuple(tip_rotor_passage.top_ctrl_pnts[1] + np.array([0.25, 0])*tip_rotor_passage.trailing_edge_gap), angle=(90, 0, 0))\n",
    "                # .from_plane(base_pnt=tuple(hub_rotor_passage.top_ctrl_pnts[-2] - np.array([0.25, 0])*hub_rotor_passage.leading_edge_gap), angle=(90, 0, 0))\n",
    "                # .from_faces(\"interior\")\n",
    "            )\n",
    "        )\n",
    "        # .vertices()\n",
    "        # .setMeshSize(0.01)\n",
    "        # .end()\n",
    "\n",
    "        .setMeshAlgorithm(\"QuasiStructuredQuad\")\n",
    "        .generate(2)\n",
    "        # .edges(type=\"split\")\n",
    "        .show(\"gmsh\")\n",
    "        # .end()\n",
    "        # # .refine(1)\n",
    "        # .setTransfiniteAuto(max_nodes=100, min_nodes=10)\n",
    "        # .generate()\n",
    "        # .show(\"gmsh\")\n",
    "    )"
   ]
  },
  {
   "cell_type": "code",
   "execution_count": 2,
   "metadata": {},
   "outputs": [
    {
     "data": {
      "application/vnd.plotly.v1+json": {
       "config": {
        "plotlyServerURL": "https://plot.ly"
       },
       "data": [
        {
         "fill": "toself",
         "marker": {
          "size": 1
         },
         "mode": "lines+markers",
         "name": "Edge5",
         "type": "scatter",
         "x": [
          -77.09766,
          -73.83111,
          -70.56456,
          -67.29801,
          -64.03146,
          -60.76491,
          -57.498367,
          -54.231834,
          -50.965317,
          -47.698822,
          -44.43237,
          -41.165977,
          -37.89967,
          -34.633484,
          -31.367462,
          -28.101652,
          -24.836092,
          -21.570814,
          -18.305845,
          -15.041496,
          -11.780049,
          -8.527087,
          -5.2849555,
          -2.9517052,
          -1.2480447,
          0.6097664,
          2.609077,
          5.272638,
          8.520801,
          11.7771635,
          15.039796,
          18.304594,
          21.569874,
          24.83541,
          28.101173,
          31.367138,
          34.63327,
          37.89953,
          41.165886,
          44.432312,
          47.698784,
          50.96529,
          54.231815,
          57.498352,
          60.7649,
          64.03145,
          67.298004,
          70.56456,
          73.83111,
          77.09766
         ],
         "y": [
          16.417135,
          16.407215,
          16.399027,
          16.391687,
          16.38431,
          16.376009,
          16.365894,
          16.353086,
          16.336695,
          16.315825,
          16.289452,
          16.256506,
          16.21591,
          16.166584,
          16.107435,
          16.037535,
          15.956779,
          15.865353,
          15.763479,
          15.643745,
          15.462861,
          15.167626,
          14.770252,
          12.734848,
          9.947981,
          7.2619495,
          4.678907,
          3.0350416,
          2.6893568,
          2.4336221,
          2.2749722,
          2.1680408,
          2.0766616,
          1.9949411,
          1.9229181,
          1.8606063,
          1.8078007,
          1.7636734,
          1.72728,
          1.69768,
          1.6739367,
          1.6551167,
          1.6403259,
          1.6287619,
          1.6196345,
          1.6121532,
          1.6055268,
          1.5989641,
          1.5916737,
          1.5828643
         ]
        },
        {
         "fill": "toself",
         "marker": {
          "size": 1
         },
         "mode": "lines+markers",
         "name": "Edge6",
         "type": "scatter",
         "x": [
          77.09766,
          77.09766,
          77.09766,
          77.09766,
          77.09766,
          77.09766,
          77.09766,
          77.09766,
          77.09766,
          77.09766,
          77.09766,
          77.09766,
          77.09766,
          77.09766,
          77.09766,
          77.09766,
          77.09766,
          77.09766,
          77.09766,
          77.09766,
          77.09766,
          77.09766,
          77.09766,
          77.09766,
          77.09766,
          77.09766,
          77.09766,
          77.09766,
          77.09766,
          77.09766,
          77.09766,
          77.09766,
          77.09766,
          77.09766,
          77.09766,
          77.09766,
          77.09766,
          77.09766,
          77.09766,
          77.09766,
          77.09766,
          77.09766,
          77.09766,
          77.09766,
          77.09766,
          77.09766,
          77.09766,
          77.09766,
          77.09766,
          77.09766
         ],
         "y": [
          1.5828643,
          1.2155174,
          0.8481704,
          0.4808235,
          0.113476545,
          -0.2538704,
          -0.6212173,
          -0.98856425,
          -1.3559113,
          -1.7232581,
          -2.090605,
          -2.457952,
          -2.825299,
          -3.1926458,
          -3.5599928,
          -3.9273398,
          -4.294687,
          -4.6620336,
          -5.029381,
          -5.3967276,
          -5.7640743,
          -6.1314216,
          -6.4987683,
          -6.866115,
          -7.2334623,
          -7.600809,
          -7.9681563,
          -8.335503,
          -8.70285,
          -9.070197,
          -9.437544,
          -9.804891,
          -10.172237,
          -10.539585,
          -10.906932,
          -11.274279,
          -11.641625,
          -12.008972,
          -12.376319,
          -12.743667,
          -13.111013,
          -13.47836,
          -13.845707,
          -14.213054,
          -14.580401,
          -14.947748,
          -15.315095,
          -15.682442,
          -16.04979,
          -16.417135
         ]
        },
        {
         "fill": "toself",
         "marker": {
          "size": 1
         },
         "mode": "lines+markers",
         "name": "Edge7",
         "type": "scatter",
         "x": [
          77.09766,
          73.83111,
          70.56456,
          67.298004,
          64.03145,
          60.7649,
          57.498352,
          54.231815,
          50.96529,
          47.698784,
          44.432312,
          41.165886,
          37.89953,
          34.63327,
          31.367138,
          28.101173,
          24.83541,
          21.569874,
          18.304594,
          15.039796,
          11.7771635,
          8.520801,
          5.272638,
          2.609077,
          0.6097664,
          -1.2480447,
          -2.9517052,
          -5.2849555,
          -8.527087,
          -11.780049,
          -15.041496,
          -18.305845,
          -21.570814,
          -24.836092,
          -28.101652,
          -31.367462,
          -34.633484,
          -37.89967,
          -41.165977,
          -44.43237,
          -47.698822,
          -50.965317,
          -54.231834,
          -57.498367,
          -60.76491,
          -64.03146,
          -67.29801,
          -70.56456,
          -73.83111,
          -77.09766
         ],
         "y": [
          -16.417135,
          -16.408327,
          -16.401035,
          -16.394474,
          -16.387846,
          -16.380365,
          -16.371239,
          -16.359674,
          -16.344883,
          -16.326063,
          -16.30232,
          -16.27272,
          -16.236326,
          -16.1922,
          -16.139393,
          -16.077082,
          -16.005058,
          -15.923338,
          -15.83196,
          -15.725028,
          -15.566378,
          -15.310643,
          -14.964958,
          -13.321094,
          -10.73805,
          -8.052019,
          -5.2651525,
          -3.2297475,
          -2.8323736,
          -2.5371387,
          -2.3562543,
          -2.2365203,
          -2.1346471,
          -2.0432212,
          -1.9624661,
          -1.8925655,
          -1.8334166,
          -1.7840897,
          -1.7434946,
          -1.710549,
          -1.6841763,
          -1.6633046,
          -1.6469145,
          -1.634105,
          -1.6239917,
          -1.6156893,
          -1.6083118,
          -1.6009728,
          -1.5927858,
          -1.5828643
         ]
        },
        {
         "fill": "toself",
         "marker": {
          "size": 1
         },
         "mode": "lines+markers",
         "name": "Edge8",
         "type": "scatter",
         "x": [
          -77.09766,
          -77.09766,
          -77.09766,
          -77.09766,
          -77.09766,
          -77.09766,
          -77.09766,
          -77.09766,
          -77.09766,
          -77.09766,
          -77.09766,
          -77.09766,
          -77.09766,
          -77.09766,
          -77.09766,
          -77.09766,
          -77.09766,
          -77.09766,
          -77.09766,
          -77.09766,
          -77.09766,
          -77.09766,
          -77.09766,
          -77.09766,
          -77.09766,
          -77.09766,
          -77.09766,
          -77.09766,
          -77.09766,
          -77.09766,
          -77.09766,
          -77.09766,
          -77.09766,
          -77.09766,
          -77.09766,
          -77.09766,
          -77.09766,
          -77.09766,
          -77.09766,
          -77.09766,
          -77.09766,
          -77.09766,
          -77.09766,
          -77.09766,
          -77.09766,
          -77.09766,
          -77.09766,
          -77.09766,
          -77.09766,
          -77.09766
         ],
         "y": [
          -1.5828643,
          -1.2155174,
          -0.8481704,
          -0.4808235,
          -0.113476545,
          0.2538704,
          0.6212173,
          0.98856425,
          1.3559113,
          1.7232581,
          2.090605,
          2.457952,
          2.825299,
          3.1926458,
          3.5599928,
          3.9273398,
          4.294687,
          4.6620336,
          5.029381,
          5.3967276,
          5.7640743,
          6.1314216,
          6.4987683,
          6.866115,
          7.2334623,
          7.600809,
          7.9681563,
          8.335503,
          8.70285,
          9.070197,
          9.437544,
          9.804891,
          10.172237,
          10.539585,
          10.906932,
          11.274279,
          11.641625,
          12.008972,
          12.376319,
          12.743667,
          13.111013,
          13.47836,
          13.845707,
          14.213054,
          14.580401,
          14.947748,
          15.315095,
          15.682442,
          16.04979,
          16.417135
         ]
        },
        {
         "fill": "toself",
         "marker": {
          "size": 1
         },
         "mode": "lines+markers",
         "name": "Edge9",
         "type": "scatter",
         "x": [
          5.0976562,
          4.7637367,
          4.475051,
          4.2019916,
          3.9369693,
          3.6769242,
          3.4202008,
          3.1657538,
          2.912689,
          2.6603122,
          2.4085324,
          2.1574721,
          1.9073442,
          1.6583908,
          1.4108917,
          1.1651467,
          0.92142206,
          0.6799527,
          0.44103256,
          0.20502238,
          -0.027716441,
          -0.25682425,
          -0.48196405,
          -0.70284617,
          -0.9192487,
          -1.1310313,
          -1.3381459,
          -1.5406405,
          -1.738656,
          -1.9324172,
          -2.1222157,
          -2.3083851,
          -2.4912786,
          -2.6712642,
          -2.8486464,
          -3.0236719,
          -3.196632,
          -3.3678658,
          -3.5376961,
          -3.7064066,
          -3.874249,
          -4.0413685,
          -4.2076526,
          -4.372248,
          -4.534036,
          -4.691667,
          -4.8429255,
          -4.9835033,
          -5.1016755,
          -5.0976562
         ],
         "y": [
          -7.4171357,
          -7.293261,
          -7.055866,
          -6.800469,
          -6.5367165,
          -6.2680492,
          -5.996204,
          -5.7222247,
          -5.4469686,
          -5.1710806,
          -4.8946476,
          -4.6175613,
          -4.3396335,
          -4.0606527,
          -3.7803814,
          -3.4985712,
          -3.215012,
          -2.9295301,
          -2.6419117,
          -2.3519015,
          -2.0592597,
          -1.7637671,
          -1.4652407,
          -1.1635509,
          -0.8586319,
          -0.55048645,
          -0.23918413,
          0.0751431,
          0.3923115,
          0.71209717,
          1.034251,
          1.3585159,
          1.6846403,
          2.012379,
          2.341534,
          2.6719484,
          3.003449,
          3.3358448,
          3.6689599,
          4.0026436,
          4.336765,
          4.671248,
          5.006148,
          5.34188,
          5.6789727,
          6.0180273,
          6.359967,
          6.706416,
          7.0610023,
          7.4171357
         ]
        },
        {
         "fill": "toself",
         "marker": {
          "size": 1
         },
         "mode": "lines+markers",
         "name": "Edge10",
         "type": "scatter",
         "x": [
          -5.0976562,
          -4.7895846,
          -4.542857,
          -4.31407,
          -4.094288,
          -3.8799546,
          -3.6691482,
          -3.4606407,
          -3.253347,
          -3.0463386,
          -2.8393192,
          -2.6322289,
          -2.425073,
          -2.2178373,
          -2.0105002,
          -1.8030435,
          -1.5954509,
          -1.3877094,
          -1.1798052,
          -0.9717215,
          -0.7634425,
          -0.55495393,
          -0.34624434,
          -0.1373033,
          0.07187906,
          0.28130868,
          0.4909854,
          0.70090306,
          0.9110515,
          1.1214201,
          1.3319974,
          1.542769,
          1.7537187,
          1.96483,
          2.176089,
          2.387483,
          2.598995,
          2.810608,
          3.0222998,
          3.2340562,
          3.445883,
          3.6577208,
          3.869276,
          4.079625,
          4.287672,
          4.49214,
          4.6909595,
          4.880117,
          5.048614,
          5.0976562
         ],
         "y": [
          7.4171357,
          7.246347,
          6.9711523,
          6.680714,
          6.383383,
          6.0820937,
          5.778324,
          5.472971,
          5.1667924,
          4.86042,
          4.5540557,
          4.2477393,
          3.9414668,
          3.6352487,
          3.329099,
          3.0230305,
          2.7170541,
          2.4111788,
          2.105414,
          1.7997713,
          1.4942617,
          1.1888951,
          0.88367957,
          0.57862234,
          0.27373058,
          -0.030991388,
          -0.33554336,
          -0.63992935,
          -0.94415605,
          -1.2482305,
          -1.5521605,
          -1.855956,
          -2.1596274,
          -2.4631867,
          -2.7666433,
          -3.070006,
          -3.3732862,
          -3.676496,
          -3.979651,
          -4.2827606,
          -4.5858207,
          -4.8888736,
          -5.192124,
          -5.496211,
          -5.801877,
          -6.1099467,
          -6.4216857,
          -6.73936,
          -7.0683208,
          -7.4171357
         ]
        },
        {
         "fill": "toself",
         "marker": {
          "size": 1
         },
         "mode": "lines+markers",
         "name": "Edge1",
         "type": "scatter",
         "x": [
          -77.09766,
          -73.83111,
          -70.56456,
          -67.29801,
          -64.03146,
          -60.76491,
          -57.498367,
          -54.231834,
          -50.965317,
          -47.698822,
          -44.43237,
          -41.165977,
          -37.89967,
          -34.633484,
          -31.367462,
          -28.101652,
          -24.836092,
          -21.570814,
          -18.305845,
          -15.041496,
          -11.780049,
          -8.527087,
          -5.2849555,
          -2.9517052,
          -1.2480447,
          0.6097664,
          2.609077,
          5.272638,
          8.520801,
          11.7771635,
          15.039796,
          18.304594,
          21.569874,
          24.83541,
          28.101173,
          31.367138,
          34.63327,
          37.89953,
          41.165886,
          44.432312,
          47.698784,
          50.96529,
          54.231815,
          57.498352,
          60.7649,
          64.03145,
          67.298004,
          70.56456,
          73.83111,
          77.09766
         ],
         "y": [
          16.417135,
          16.407215,
          16.399027,
          16.391687,
          16.38431,
          16.376009,
          16.365894,
          16.353086,
          16.336695,
          16.315825,
          16.289452,
          16.256506,
          16.21591,
          16.166584,
          16.107435,
          16.037535,
          15.956779,
          15.865353,
          15.763479,
          15.643745,
          15.462861,
          15.167626,
          14.770252,
          12.734848,
          9.947981,
          7.2619495,
          4.678907,
          3.0350416,
          2.6893568,
          2.4336221,
          2.2749722,
          2.1680408,
          2.0766616,
          1.9949411,
          1.9229181,
          1.8606063,
          1.8078007,
          1.7636734,
          1.72728,
          1.69768,
          1.6739367,
          1.6551167,
          1.6403259,
          1.6287619,
          1.6196345,
          1.6121532,
          1.6055268,
          1.5989641,
          1.5916737,
          1.5828643
         ]
        },
        {
         "fill": "toself",
         "marker": {
          "size": 1
         },
         "mode": "lines+markers",
         "name": "Edge2",
         "type": "scatter",
         "x": [
          77.09766,
          77.09766,
          77.09766,
          77.09766,
          77.09766,
          77.09766,
          77.09766,
          77.09766,
          77.09766,
          77.09766,
          77.09766,
          77.09766,
          77.09766,
          77.09766,
          77.09766,
          77.09766,
          77.09766,
          77.09766,
          77.09766,
          77.09766,
          77.09766,
          77.09766,
          77.09766,
          77.09766,
          77.09766,
          77.09766,
          77.09766,
          77.09766,
          77.09766,
          77.09766,
          77.09766,
          77.09766,
          77.09766,
          77.09766,
          77.09766,
          77.09766,
          77.09766,
          77.09766,
          77.09766,
          77.09766,
          77.09766,
          77.09766,
          77.09766,
          77.09766,
          77.09766,
          77.09766,
          77.09766,
          77.09766,
          77.09766,
          77.09766
         ],
         "y": [
          1.5828643,
          1.2155174,
          0.8481704,
          0.4808235,
          0.113476545,
          -0.2538704,
          -0.6212173,
          -0.98856425,
          -1.3559113,
          -1.7232581,
          -2.090605,
          -2.457952,
          -2.825299,
          -3.1926458,
          -3.5599928,
          -3.9273398,
          -4.294687,
          -4.6620336,
          -5.029381,
          -5.3967276,
          -5.7640743,
          -6.1314216,
          -6.4987683,
          -6.866115,
          -7.2334623,
          -7.600809,
          -7.9681563,
          -8.335503,
          -8.70285,
          -9.070197,
          -9.437544,
          -9.804891,
          -10.172237,
          -10.539585,
          -10.906932,
          -11.274279,
          -11.641625,
          -12.008972,
          -12.376319,
          -12.743667,
          -13.111013,
          -13.47836,
          -13.845707,
          -14.213054,
          -14.580401,
          -14.947748,
          -15.315095,
          -15.682442,
          -16.04979,
          -16.417135
         ]
        },
        {
         "fill": "toself",
         "marker": {
          "size": 1
         },
         "mode": "lines+markers",
         "name": "Edge3",
         "type": "scatter",
         "x": [
          77.09766,
          73.83111,
          70.56456,
          67.298004,
          64.03145,
          60.7649,
          57.498352,
          54.231815,
          50.96529,
          47.698784,
          44.432312,
          41.165886,
          37.89953,
          34.63327,
          31.367138,
          28.101173,
          24.83541,
          21.569874,
          18.304594,
          15.039796,
          11.7771635,
          8.520801,
          5.272638,
          2.609077,
          0.6097664,
          -1.2480447,
          -2.9517052,
          -5.2849555,
          -8.527087,
          -11.780049,
          -15.041496,
          -18.305845,
          -21.570814,
          -24.836092,
          -28.101652,
          -31.367462,
          -34.633484,
          -37.89967,
          -41.165977,
          -44.43237,
          -47.698822,
          -50.965317,
          -54.231834,
          -57.498367,
          -60.76491,
          -64.03146,
          -67.29801,
          -70.56456,
          -73.83111,
          -77.09766
         ],
         "y": [
          -16.417135,
          -16.408327,
          -16.401035,
          -16.394474,
          -16.387846,
          -16.380365,
          -16.371239,
          -16.359674,
          -16.344883,
          -16.326063,
          -16.30232,
          -16.27272,
          -16.236326,
          -16.1922,
          -16.139393,
          -16.077082,
          -16.005058,
          -15.923338,
          -15.83196,
          -15.725028,
          -15.566378,
          -15.310643,
          -14.964958,
          -13.321094,
          -10.73805,
          -8.052019,
          -5.2651525,
          -3.2297475,
          -2.8323736,
          -2.5371387,
          -2.3562543,
          -2.2365203,
          -2.1346471,
          -2.0432212,
          -1.9624661,
          -1.8925655,
          -1.8334166,
          -1.7840897,
          -1.7434946,
          -1.710549,
          -1.6841763,
          -1.6633046,
          -1.6469145,
          -1.634105,
          -1.6239917,
          -1.6156893,
          -1.6083118,
          -1.6009728,
          -1.5927858,
          -1.5828643
         ]
        },
        {
         "fill": "toself",
         "marker": {
          "size": 1
         },
         "mode": "lines+markers",
         "name": "Edge4",
         "type": "scatter",
         "x": [
          -77.09766,
          -77.09766,
          -77.09766,
          -77.09766,
          -77.09766,
          -77.09766,
          -77.09766,
          -77.09766,
          -77.09766,
          -77.09766,
          -77.09766,
          -77.09766,
          -77.09766,
          -77.09766,
          -77.09766,
          -77.09766,
          -77.09766,
          -77.09766,
          -77.09766,
          -77.09766,
          -77.09766,
          -77.09766,
          -77.09766,
          -77.09766,
          -77.09766,
          -77.09766,
          -77.09766,
          -77.09766,
          -77.09766,
          -77.09766,
          -77.09766,
          -77.09766,
          -77.09766,
          -77.09766,
          -77.09766,
          -77.09766,
          -77.09766,
          -77.09766,
          -77.09766,
          -77.09766,
          -77.09766,
          -77.09766,
          -77.09766,
          -77.09766,
          -77.09766,
          -77.09766,
          -77.09766,
          -77.09766,
          -77.09766,
          -77.09766
         ],
         "y": [
          -1.5828643,
          -1.2155174,
          -0.8481704,
          -0.4808235,
          -0.113476545,
          0.2538704,
          0.6212173,
          0.98856425,
          1.3559113,
          1.7232581,
          2.090605,
          2.457952,
          2.825299,
          3.1926458,
          3.5599928,
          3.9273398,
          4.294687,
          4.6620336,
          5.029381,
          5.3967276,
          5.7640743,
          6.1314216,
          6.4987683,
          6.866115,
          7.2334623,
          7.600809,
          7.9681563,
          8.335503,
          8.70285,
          9.070197,
          9.437544,
          9.804891,
          10.172237,
          10.539585,
          10.906932,
          11.274279,
          11.641625,
          12.008972,
          12.376319,
          12.743667,
          13.111013,
          13.47836,
          13.845707,
          14.213054,
          14.580401,
          14.947748,
          15.315095,
          15.682442,
          16.04979,
          16.417135
         ]
        },
        {
         "fill": "toself",
         "marker": {
          "size": 1
         },
         "mode": "lines+markers",
         "name": "Edge11",
         "type": "scatter",
         "x": [
          5.0976562,
          4.7637367,
          4.475051,
          4.2019916,
          3.9369693,
          3.6769242,
          3.4202008,
          3.1657538,
          2.912689,
          2.6603122,
          2.4085324,
          2.1574721,
          1.9073442,
          1.6583908,
          1.4108917,
          1.1651467,
          0.92142206,
          0.6799527,
          0.44103256,
          0.20502238,
          -0.027716441,
          -0.25682425,
          -0.48196405,
          -0.70284617,
          -0.9192487,
          -1.1310313,
          -1.3381459,
          -1.5406405,
          -1.738656,
          -1.9324172,
          -2.1222157,
          -2.3083851,
          -2.4912786,
          -2.6712642,
          -2.8486464,
          -3.0236719,
          -3.196632,
          -3.3678658,
          -3.5376961,
          -3.7064066,
          -3.874249,
          -4.0413685,
          -4.2076526,
          -4.372248,
          -4.534036,
          -4.691667,
          -4.8429255,
          -4.9835033,
          -5.1016755,
          -5.0976562
         ],
         "y": [
          -7.4171357,
          -7.293261,
          -7.055866,
          -6.800469,
          -6.5367165,
          -6.2680492,
          -5.996204,
          -5.7222247,
          -5.4469686,
          -5.1710806,
          -4.8946476,
          -4.6175613,
          -4.3396335,
          -4.0606527,
          -3.7803814,
          -3.4985712,
          -3.215012,
          -2.9295301,
          -2.6419117,
          -2.3519015,
          -2.0592597,
          -1.7637671,
          -1.4652407,
          -1.1635509,
          -0.8586319,
          -0.55048645,
          -0.23918413,
          0.0751431,
          0.3923115,
          0.71209717,
          1.034251,
          1.3585159,
          1.6846403,
          2.012379,
          2.341534,
          2.6719484,
          3.003449,
          3.3358448,
          3.6689599,
          4.0026436,
          4.336765,
          4.671248,
          5.006148,
          5.34188,
          5.6789727,
          6.0180273,
          6.359967,
          6.706416,
          7.0610023,
          7.4171357
         ]
        },
        {
         "fill": "toself",
         "marker": {
          "size": 1
         },
         "mode": "lines+markers",
         "name": "Edge12",
         "type": "scatter",
         "x": [
          -5.0976562,
          -4.7895846,
          -4.542857,
          -4.31407,
          -4.094288,
          -3.8799546,
          -3.6691482,
          -3.4606407,
          -3.253347,
          -3.0463386,
          -2.8393192,
          -2.6322289,
          -2.425073,
          -2.2178373,
          -2.0105002,
          -1.8030435,
          -1.5954509,
          -1.3877094,
          -1.1798052,
          -0.9717215,
          -0.7634425,
          -0.55495393,
          -0.34624434,
          -0.1373033,
          0.07187906,
          0.28130868,
          0.4909854,
          0.70090306,
          0.9110515,
          1.1214201,
          1.3319974,
          1.542769,
          1.7537187,
          1.96483,
          2.176089,
          2.387483,
          2.598995,
          2.810608,
          3.0222998,
          3.2340562,
          3.445883,
          3.6577208,
          3.869276,
          4.079625,
          4.287672,
          4.49214,
          4.6909595,
          4.880117,
          5.048614,
          5.0976562
         ],
         "y": [
          7.4171357,
          7.246347,
          6.9711523,
          6.680714,
          6.383383,
          6.0820937,
          5.778324,
          5.472971,
          5.1667924,
          4.86042,
          4.5540557,
          4.2477393,
          3.9414668,
          3.6352487,
          3.329099,
          3.0230305,
          2.7170541,
          2.4111788,
          2.105414,
          1.7997713,
          1.4942617,
          1.1888951,
          0.88367957,
          0.57862234,
          0.27373058,
          -0.030991388,
          -0.33554336,
          -0.63992935,
          -0.94415605,
          -1.2482305,
          -1.5521605,
          -1.855956,
          -2.1596274,
          -2.4631867,
          -2.7666433,
          -3.070006,
          -3.3732862,
          -3.676496,
          -3.979651,
          -4.2827606,
          -4.5858207,
          -4.8888736,
          -5.192124,
          -5.496211,
          -5.801877,
          -6.1099467,
          -6.4216857,
          -6.73936,
          -7.0683208,
          -7.4171357
         ]
        }
       ],
       "layout": {
        "template": {
         "data": {
          "bar": [
           {
            "error_x": {
             "color": "#2a3f5f"
            },
            "error_y": {
             "color": "#2a3f5f"
            },
            "marker": {
             "line": {
              "color": "#E5ECF6",
              "width": 0.5
             },
             "pattern": {
              "fillmode": "overlay",
              "size": 10,
              "solidity": 0.2
             }
            },
            "type": "bar"
           }
          ],
          "barpolar": [
           {
            "marker": {
             "line": {
              "color": "#E5ECF6",
              "width": 0.5
             },
             "pattern": {
              "fillmode": "overlay",
              "size": 10,
              "solidity": 0.2
             }
            },
            "type": "barpolar"
           }
          ],
          "carpet": [
           {
            "aaxis": {
             "endlinecolor": "#2a3f5f",
             "gridcolor": "white",
             "linecolor": "white",
             "minorgridcolor": "white",
             "startlinecolor": "#2a3f5f"
            },
            "baxis": {
             "endlinecolor": "#2a3f5f",
             "gridcolor": "white",
             "linecolor": "white",
             "minorgridcolor": "white",
             "startlinecolor": "#2a3f5f"
            },
            "type": "carpet"
           }
          ],
          "choropleth": [
           {
            "colorbar": {
             "outlinewidth": 0,
             "ticks": ""
            },
            "type": "choropleth"
           }
          ],
          "contour": [
           {
            "colorbar": {
             "outlinewidth": 0,
             "ticks": ""
            },
            "colorscale": [
             [
              0,
              "#0d0887"
             ],
             [
              0.1111111111111111,
              "#46039f"
             ],
             [
              0.2222222222222222,
              "#7201a8"
             ],
             [
              0.3333333333333333,
              "#9c179e"
             ],
             [
              0.4444444444444444,
              "#bd3786"
             ],
             [
              0.5555555555555556,
              "#d8576b"
             ],
             [
              0.6666666666666666,
              "#ed7953"
             ],
             [
              0.7777777777777778,
              "#fb9f3a"
             ],
             [
              0.8888888888888888,
              "#fdca26"
             ],
             [
              1,
              "#f0f921"
             ]
            ],
            "type": "contour"
           }
          ],
          "contourcarpet": [
           {
            "colorbar": {
             "outlinewidth": 0,
             "ticks": ""
            },
            "type": "contourcarpet"
           }
          ],
          "heatmap": [
           {
            "colorbar": {
             "outlinewidth": 0,
             "ticks": ""
            },
            "colorscale": [
             [
              0,
              "#0d0887"
             ],
             [
              0.1111111111111111,
              "#46039f"
             ],
             [
              0.2222222222222222,
              "#7201a8"
             ],
             [
              0.3333333333333333,
              "#9c179e"
             ],
             [
              0.4444444444444444,
              "#bd3786"
             ],
             [
              0.5555555555555556,
              "#d8576b"
             ],
             [
              0.6666666666666666,
              "#ed7953"
             ],
             [
              0.7777777777777778,
              "#fb9f3a"
             ],
             [
              0.8888888888888888,
              "#fdca26"
             ],
             [
              1,
              "#f0f921"
             ]
            ],
            "type": "heatmap"
           }
          ],
          "heatmapgl": [
           {
            "colorbar": {
             "outlinewidth": 0,
             "ticks": ""
            },
            "colorscale": [
             [
              0,
              "#0d0887"
             ],
             [
              0.1111111111111111,
              "#46039f"
             ],
             [
              0.2222222222222222,
              "#7201a8"
             ],
             [
              0.3333333333333333,
              "#9c179e"
             ],
             [
              0.4444444444444444,
              "#bd3786"
             ],
             [
              0.5555555555555556,
              "#d8576b"
             ],
             [
              0.6666666666666666,
              "#ed7953"
             ],
             [
              0.7777777777777778,
              "#fb9f3a"
             ],
             [
              0.8888888888888888,
              "#fdca26"
             ],
             [
              1,
              "#f0f921"
             ]
            ],
            "type": "heatmapgl"
           }
          ],
          "histogram": [
           {
            "marker": {
             "pattern": {
              "fillmode": "overlay",
              "size": 10,
              "solidity": 0.2
             }
            },
            "type": "histogram"
           }
          ],
          "histogram2d": [
           {
            "colorbar": {
             "outlinewidth": 0,
             "ticks": ""
            },
            "colorscale": [
             [
              0,
              "#0d0887"
             ],
             [
              0.1111111111111111,
              "#46039f"
             ],
             [
              0.2222222222222222,
              "#7201a8"
             ],
             [
              0.3333333333333333,
              "#9c179e"
             ],
             [
              0.4444444444444444,
              "#bd3786"
             ],
             [
              0.5555555555555556,
              "#d8576b"
             ],
             [
              0.6666666666666666,
              "#ed7953"
             ],
             [
              0.7777777777777778,
              "#fb9f3a"
             ],
             [
              0.8888888888888888,
              "#fdca26"
             ],
             [
              1,
              "#f0f921"
             ]
            ],
            "type": "histogram2d"
           }
          ],
          "histogram2dcontour": [
           {
            "colorbar": {
             "outlinewidth": 0,
             "ticks": ""
            },
            "colorscale": [
             [
              0,
              "#0d0887"
             ],
             [
              0.1111111111111111,
              "#46039f"
             ],
             [
              0.2222222222222222,
              "#7201a8"
             ],
             [
              0.3333333333333333,
              "#9c179e"
             ],
             [
              0.4444444444444444,
              "#bd3786"
             ],
             [
              0.5555555555555556,
              "#d8576b"
             ],
             [
              0.6666666666666666,
              "#ed7953"
             ],
             [
              0.7777777777777778,
              "#fb9f3a"
             ],
             [
              0.8888888888888888,
              "#fdca26"
             ],
             [
              1,
              "#f0f921"
             ]
            ],
            "type": "histogram2dcontour"
           }
          ],
          "mesh3d": [
           {
            "colorbar": {
             "outlinewidth": 0,
             "ticks": ""
            },
            "type": "mesh3d"
           }
          ],
          "parcoords": [
           {
            "line": {
             "colorbar": {
              "outlinewidth": 0,
              "ticks": ""
             }
            },
            "type": "parcoords"
           }
          ],
          "pie": [
           {
            "automargin": true,
            "type": "pie"
           }
          ],
          "scatter": [
           {
            "fillpattern": {
             "fillmode": "overlay",
             "size": 10,
             "solidity": 0.2
            },
            "type": "scatter"
           }
          ],
          "scatter3d": [
           {
            "line": {
             "colorbar": {
              "outlinewidth": 0,
              "ticks": ""
             }
            },
            "marker": {
             "colorbar": {
              "outlinewidth": 0,
              "ticks": ""
             }
            },
            "type": "scatter3d"
           }
          ],
          "scattercarpet": [
           {
            "marker": {
             "colorbar": {
              "outlinewidth": 0,
              "ticks": ""
             }
            },
            "type": "scattercarpet"
           }
          ],
          "scattergeo": [
           {
            "marker": {
             "colorbar": {
              "outlinewidth": 0,
              "ticks": ""
             }
            },
            "type": "scattergeo"
           }
          ],
          "scattergl": [
           {
            "marker": {
             "colorbar": {
              "outlinewidth": 0,
              "ticks": ""
             }
            },
            "type": "scattergl"
           }
          ],
          "scattermapbox": [
           {
            "marker": {
             "colorbar": {
              "outlinewidth": 0,
              "ticks": ""
             }
            },
            "type": "scattermapbox"
           }
          ],
          "scatterpolar": [
           {
            "marker": {
             "colorbar": {
              "outlinewidth": 0,
              "ticks": ""
             }
            },
            "type": "scatterpolar"
           }
          ],
          "scatterpolargl": [
           {
            "marker": {
             "colorbar": {
              "outlinewidth": 0,
              "ticks": ""
             }
            },
            "type": "scatterpolargl"
           }
          ],
          "scatterternary": [
           {
            "marker": {
             "colorbar": {
              "outlinewidth": 0,
              "ticks": ""
             }
            },
            "type": "scatterternary"
           }
          ],
          "surface": [
           {
            "colorbar": {
             "outlinewidth": 0,
             "ticks": ""
            },
            "colorscale": [
             [
              0,
              "#0d0887"
             ],
             [
              0.1111111111111111,
              "#46039f"
             ],
             [
              0.2222222222222222,
              "#7201a8"
             ],
             [
              0.3333333333333333,
              "#9c179e"
             ],
             [
              0.4444444444444444,
              "#bd3786"
             ],
             [
              0.5555555555555556,
              "#d8576b"
             ],
             [
              0.6666666666666666,
              "#ed7953"
             ],
             [
              0.7777777777777778,
              "#fb9f3a"
             ],
             [
              0.8888888888888888,
              "#fdca26"
             ],
             [
              1,
              "#f0f921"
             ]
            ],
            "type": "surface"
           }
          ],
          "table": [
           {
            "cells": {
             "fill": {
              "color": "#EBF0F8"
             },
             "line": {
              "color": "white"
             }
            },
            "header": {
             "fill": {
              "color": "#C8D4E3"
             },
             "line": {
              "color": "white"
             }
            },
            "type": "table"
           }
          ]
         },
         "layout": {
          "annotationdefaults": {
           "arrowcolor": "#2a3f5f",
           "arrowhead": 0,
           "arrowwidth": 1
          },
          "autotypenumbers": "strict",
          "coloraxis": {
           "colorbar": {
            "outlinewidth": 0,
            "ticks": ""
           }
          },
          "colorscale": {
           "diverging": [
            [
             0,
             "#8e0152"
            ],
            [
             0.1,
             "#c51b7d"
            ],
            [
             0.2,
             "#de77ae"
            ],
            [
             0.3,
             "#f1b6da"
            ],
            [
             0.4,
             "#fde0ef"
            ],
            [
             0.5,
             "#f7f7f7"
            ],
            [
             0.6,
             "#e6f5d0"
            ],
            [
             0.7,
             "#b8e186"
            ],
            [
             0.8,
             "#7fbc41"
            ],
            [
             0.9,
             "#4d9221"
            ],
            [
             1,
             "#276419"
            ]
           ],
           "sequential": [
            [
             0,
             "#0d0887"
            ],
            [
             0.1111111111111111,
             "#46039f"
            ],
            [
             0.2222222222222222,
             "#7201a8"
            ],
            [
             0.3333333333333333,
             "#9c179e"
            ],
            [
             0.4444444444444444,
             "#bd3786"
            ],
            [
             0.5555555555555556,
             "#d8576b"
            ],
            [
             0.6666666666666666,
             "#ed7953"
            ],
            [
             0.7777777777777778,
             "#fb9f3a"
            ],
            [
             0.8888888888888888,
             "#fdca26"
            ],
            [
             1,
             "#f0f921"
            ]
           ],
           "sequentialminus": [
            [
             0,
             "#0d0887"
            ],
            [
             0.1111111111111111,
             "#46039f"
            ],
            [
             0.2222222222222222,
             "#7201a8"
            ],
            [
             0.3333333333333333,
             "#9c179e"
            ],
            [
             0.4444444444444444,
             "#bd3786"
            ],
            [
             0.5555555555555556,
             "#d8576b"
            ],
            [
             0.6666666666666666,
             "#ed7953"
            ],
            [
             0.7777777777777778,
             "#fb9f3a"
            ],
            [
             0.8888888888888888,
             "#fdca26"
            ],
            [
             1,
             "#f0f921"
            ]
           ]
          },
          "colorway": [
           "#636efa",
           "#EF553B",
           "#00cc96",
           "#ab63fa",
           "#FFA15A",
           "#19d3f3",
           "#FF6692",
           "#B6E880",
           "#FF97FF",
           "#FECB52"
          ],
          "font": {
           "color": "#2a3f5f"
          },
          "geo": {
           "bgcolor": "white",
           "lakecolor": "white",
           "landcolor": "#E5ECF6",
           "showlakes": true,
           "showland": true,
           "subunitcolor": "white"
          },
          "hoverlabel": {
           "align": "left"
          },
          "hovermode": "closest",
          "mapbox": {
           "style": "light"
          },
          "paper_bgcolor": "white",
          "plot_bgcolor": "#E5ECF6",
          "polar": {
           "angularaxis": {
            "gridcolor": "white",
            "linecolor": "white",
            "ticks": ""
           },
           "bgcolor": "#E5ECF6",
           "radialaxis": {
            "gridcolor": "white",
            "linecolor": "white",
            "ticks": ""
           }
          },
          "scene": {
           "xaxis": {
            "backgroundcolor": "#E5ECF6",
            "gridcolor": "white",
            "gridwidth": 2,
            "linecolor": "white",
            "showbackground": true,
            "ticks": "",
            "zerolinecolor": "white"
           },
           "yaxis": {
            "backgroundcolor": "#E5ECF6",
            "gridcolor": "white",
            "gridwidth": 2,
            "linecolor": "white",
            "showbackground": true,
            "ticks": "",
            "zerolinecolor": "white"
           },
           "zaxis": {
            "backgroundcolor": "#E5ECF6",
            "gridcolor": "white",
            "gridwidth": 2,
            "linecolor": "white",
            "showbackground": true,
            "ticks": "",
            "zerolinecolor": "white"
           }
          },
          "shapedefaults": {
           "line": {
            "color": "#2a3f5f"
           }
          },
          "ternary": {
           "aaxis": {
            "gridcolor": "white",
            "linecolor": "white",
            "ticks": ""
           },
           "baxis": {
            "gridcolor": "white",
            "linecolor": "white",
            "ticks": ""
           },
           "bgcolor": "#E5ECF6",
           "caxis": {
            "gridcolor": "white",
            "linecolor": "white",
            "ticks": ""
           }
          },
          "title": {
           "x": 0.05
          },
          "xaxis": {
           "automargin": true,
           "gridcolor": "white",
           "linecolor": "white",
           "ticks": "",
           "title": {
            "standoff": 15
           },
           "zerolinecolor": "white",
           "zerolinewidth": 2
          },
          "yaxis": {
           "automargin": true,
           "gridcolor": "white",
           "linecolor": "white",
           "ticks": "",
           "title": {
            "standoff": 15
           },
           "zerolinecolor": "white",
           "zerolinewidth": 2
          }
         }
        },
        "title": {
         "text": "Plot"
        },
        "yaxis": {
         "scaleanchor": "x"
        }
       }
      }
     },
     "metadata": {},
     "output_type": "display_data"
    },
    {
     "data": {
      "text/plain": [
       "<meshql.ql.GeometryQL at 0x2b44cadd0>"
      ]
     },
     "execution_count": 2,
     "metadata": {},
     "output_type": "execute_result"
    }
   ],
   "source": [
    "import numpy as np\n",
    "from parafoil import TurboRowPassage, TurboStagePassage, TurboMeshParameters\n",
    "from parafoil import CamberThicknessAirfoil\n",
    "from parafoil.passages.turbo import TurboRow3DPassage\n",
    "\n",
    "mean_rotor_airfoil = CamberThicknessAirfoil(\n",
    "    inlet_angle=np.radians(-60),\n",
    "    outlet_angle=np.radians(-51),\n",
    "    upper_thick_prop=[0.015, 0.05, 0.05, 0.015],\n",
    "    lower_thick_prop=[0.015, 0.05, 0.05, 0.015],\n",
    "    leading_prop=0.5,\n",
    "    trailing_prop=0.5,\n",
    "    chord_length=0.018*1000,\n",
    ")\n",
    "mean_rotor_pasage = TurboRowPassage(\n",
    "    airfoil=mean_rotor_airfoil,\n",
    "    spacing_to_chord=1.0,\n",
    "    leading_edge_gap_to_chord=4,\n",
    "    trailing_edge_gap_to_chord=4,\n",
    "    type=\"camber\",\n",
    "    mesh_params=TurboMeshParameters(\n",
    "        airfoil_label=\"wall1\",\n",
    "        bottom_label=\"periodic1\",\n",
    "        top_label=\"periodic2\",\n",
    "        inlet_label=\"inflow\",\n",
    "        outlet_label=\"outmix\",\n",
    "    )\n",
    ")\n",
    "mean_rotor_pasage.to_geo()"
   ]
  },
  {
   "cell_type": "code",
   "execution_count": null,
   "metadata": {},
   "outputs": [],
   "source": []
  }
 ],
 "metadata": {
  "kernelspec": {
   "display_name": "cadquery",
   "language": "python",
   "name": "python3"
  },
  "language_info": {
   "codemirror_mode": {
    "name": "ipython",
    "version": 3
   },
   "file_extension": ".py",
   "mimetype": "text/x-python",
   "name": "python",
   "nbconvert_exporter": "python",
   "pygments_lexer": "ipython3",
   "version": "3.11.5"
  },
  "orig_nbformat": 4
 },
 "nbformat": 4,
 "nbformat_minor": 2
}
